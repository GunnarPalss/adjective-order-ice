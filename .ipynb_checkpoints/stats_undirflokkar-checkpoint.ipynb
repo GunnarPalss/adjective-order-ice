{
 "cells": [
  {
   "cell_type": "code",
   "execution_count": 19,
   "metadata": {},
   "outputs": [],
   "source": [
    "import pandas as pd\n",
    "import numpy as np"
   ]
  },
  {
   "cell_type": "code",
   "execution_count": 8,
   "metadata": {},
   "outputs": [],
   "source": [
    "rm_adjectives = []\n",
    "\n",
    "f = open(\"adj_data/all_adj.txt\", encoding=\"utf8\")\n",
    "for x in f:\n",
    "    rm_adjective = x[:-1]\n",
    "    rm_adjectives.append(rm_adjective)\n",
    "    \n",
    "    \n",
    "germanet_flokkar = []\n",
    "\n",
    "f = open(\"germanet_data/germanet_categories.txt\", encoding=\"utf8\")\n",
    "for x in f:\n",
    "    germanet_flokkur = x.split()\n",
    "    germanet_flokkar.append(germanet_flokkur)\n",
    "    \n",
    "yfirflokkar = []\n",
    "undirflokkar = []\n",
    "leitarord = []\n",
    "\n",
    "for i in germanet_flokkar:\n",
    "    yfirflokkar.append(i[0])\n",
    "    undirflokkar.append(i[1])\n",
    "    leitarord1 = []\n",
    "    leitarord1.append(i[2])\n",
    "    leitarord1.append(i[3])\n",
    "    leitarord.append(leitarord1)\n",
    "    \n",
    "yfirflokkar = list( dict.fromkeys(yfirflokkar) )\n",
    "    \n",
    "    \n",
    "prenoms = []   \n",
    "    \n",
    "f = open(\"adj_data/prenoms_adj.txt\", encoding=\"utf8\")\n",
    "for x in f:\n",
    "    prenom = x.split()\n",
    "    prenoms.append(prenom[:-1])\n",
    "    \n",
    "prenoms_likindi = []\n",
    "\n",
    "f = open(\"adj_data/prenoms_cossims.txt\", encoding=\"utf8\")\n",
    "for x in f:\n",
    "    prenom_likur = x.split()\n",
    "    prenoms_likindi.append(prenom_likur)\n",
    "    \n",
    "prenoms_yfirflokkar = []\n",
    "\n",
    "f = open(\"adj_data/prenoms_supercategories.txt\", encoding=\"utf8\")\n",
    "for x in f:\n",
    "    prenom_yfirflokkur = x.split()\n",
    "    prenoms_yfirflokkar.append(prenom_yfirflokkur)\n",
    "    \n",
    "prenoms_undirflokkar = []\n",
    "\n",
    "f = open(\"adj_data/prenoms_subcategories.txt\", encoding=\"utf8\")\n",
    "for x in f:\n",
    "    prenom_undirflokkur = x.split()\n",
    "    prenoms_undirflokkar.append(prenom_undirflokkur)"
   ]
  },
  {
   "cell_type": "code",
   "execution_count": 71,
   "metadata": {},
   "outputs": [],
   "source": [
    "def tally_occurences(prenom:list, prevs):\n",
    "    \n",
    "    n = len(prenom)-1\n",
    "    i = 0\n",
    "    \n",
    "    while n >= 1:\n",
    "        \n",
    "        m = 0\n",
    "        word2 = prenom[n]\n",
    "        cat2 = undirflokkar.index(word2)\n",
    "        \n",
    "        while m < n:\n",
    "            \n",
    "            word1 = prenom[m]\n",
    "            cat1 = undirflokkar.index(word1)\n",
    "            \n",
    "            prevs[cat1,cat2] += 1\n",
    "            \n",
    "            m += 1\n",
    "        \n",
    "        n -= 1\n",
    "    \n",
    "    return prevs"
   ]
  },
  {
   "cell_type": "code",
   "execution_count": 86,
   "metadata": {},
   "outputs": [
    {
     "name": "stdout",
     "output_type": "stream",
     "text": [
      "Lýsingarorðið með lægstu líkurnar er:  5m/s\n",
      "Áætlaður undirflokkur sem orðið telst vera hluti af er:  efniseiginleiki\n",
      "Það hefur líkurnar: 19.999%\n"
     ]
    }
   ],
   "source": [
    "# Ólíklegasta lýsingarorðið\n",
    "\n",
    "a = prenoms_likindi.index(min(prenoms_likindi))\n",
    "b = min(prenoms_likindi).index(min(prenoms_likindi[a]))\n",
    "\n",
    "print(\"Lýsingarorðið með lægstu líkurnar er: \", prenoms[a][b])\n",
    "print(\"Áætlaður undirflokkur sem orðið telst vera hluti af er: \", prenoms_undirflokkar[a][b])\n",
    "print(\"Það hefur líkurnar: {:.3%}\".format(float(prenoms_likindi[a][b])))"
   ]
  },
  {
   "cell_type": "code",
   "execution_count": 83,
   "metadata": {},
   "outputs": [
    {
     "name": "stdout",
     "output_type": "stream",
     "text": [
      "Mesti fjöldi lýsingarorða á undan einu nafnorði er:  18\n",
      " Sá strengur er:  ['uppruni', 'eðli', 'hamur', 'afleiðsla', 'venja', 'eðli', 'birta', 'útlit', 'rúmdreifing', 'útlit', 'erfiði', 'líkamsgerð', 'vissa', 'hegðun', 'örvun', 'nauðsyn', 'nauðsyn', 'nauðsyn']\n"
     ]
    }
   ],
   "source": [
    "# Lengsti strengur lýsingarorða á undan nafnorði\n",
    "\n",
    "prenoms_len = []\n",
    "\n",
    "for i in prenoms:\n",
    "    prenoms_len.append(len(i))\n",
    "\n",
    "print(\"Mesti fjöldi lýsingarorða á undan einu nafnorði er: \", max(prenoms_len))\n",
    "print(\" Sá strengur er: \", prenoms_undirflokkar[prenoms_len.index(max(prenoms_len))])"
   ]
  },
  {
   "cell_type": "code",
   "execution_count": 85,
   "metadata": {},
   "outputs": [],
   "source": [
    "\"\"\"\n",
    "prevs = np.zeros((len(undirflokkar), len(undirflokkar)))\n",
    "prevs = tally_occurences(prenoms_undirflokkar[859627], prevs)\n",
    "prevs = pd.DataFrame(prevs, dtype=int, index=undirflokkar, columns=undirflokkar)\n",
    "prevs = prevs.to_csv()\n",
    "\n",
    "with open('stats_data/prenom_stats.csv', 'w', encoding='utf8') as f:\n",
    "    f.write(prevs)\n",
    "\"\"\""
   ]
  },
  {
   "cell_type": "code",
   "execution_count": null,
   "metadata": {},
   "outputs": [],
   "source": []
  }
 ],
 "metadata": {
  "kernelspec": {
   "display_name": "Python 3",
   "language": "python",
   "name": "python3"
  },
  "language_info": {
   "codemirror_mode": {
    "name": "ipython",
    "version": 3
   },
   "file_extension": ".py",
   "mimetype": "text/x-python",
   "name": "python",
   "nbconvert_exporter": "python",
   "pygments_lexer": "ipython3",
   "version": "3.8.2"
  }
 },
 "nbformat": 4,
 "nbformat_minor": 4
}
