{
 "cells": [
  {
   "cell_type": "code",
   "execution_count": 1,
   "metadata": {},
   "outputs": [],
   "source": [
    "import pandas as pd\n",
    "import numpy as np"
   ]
  },
  {
   "cell_type": "code",
   "execution_count": 2,
   "metadata": {},
   "outputs": [],
   "source": [
    "rm_adjectives = []\n",
    "\n",
    "f = open(\"adj_data/all_adj.txt\", encoding=\"utf8\")\n",
    "for x in f:\n",
    "    rm_adjective = x[:-1]\n",
    "    rm_adjectives.append(rm_adjective)\n",
    "    \n",
    "    \n",
    "germanet_flokkar = []\n",
    "\n",
    "f = open(\"germanet_data/germanet_categories.txt\", encoding=\"utf8\")\n",
    "for x in f:\n",
    "    germanet_flokkur = x.split()\n",
    "    germanet_flokkar.append(germanet_flokkur)\n",
    "    \n",
    "yfirflokkar = []\n",
    "undirflokkar = []\n",
    "leitarord = []\n",
    "\n",
    "for i in germanet_flokkar:\n",
    "    yfirflokkar.append(i[0])\n",
    "    undirflokkar.append(i[1])\n",
    "    leitarord1 = []\n",
    "    leitarord1.append(i[2])\n",
    "    leitarord1.append(i[3])\n",
    "    leitarord.append(leitarord1)\n",
    "    \n",
    "yfirflokkar = list( dict.fromkeys(yfirflokkar) )\n",
    "    \n",
    "    \n",
    "prenoms = []   \n",
    "    \n",
    "f = open(\"adj_data/prenoms_adj.txt\", encoding=\"utf8\")\n",
    "for x in f:\n",
    "    prenom = x.split()\n",
    "    prenoms.append(prenom[:-1])\n",
    "    \n",
    "prenoms_likindi = []\n",
    "\n",
    "f = open(\"adj_data/prenoms_cossims.txt\", encoding=\"utf8\")\n",
    "for x in f:\n",
    "    prenom_likur = x.split()\n",
    "    prenoms_likindi.append(prenom_likur)\n",
    "    \n",
    "prenoms_yfirflokkar = []\n",
    "\n",
    "f = open(\"adj_data/prenoms_supercategories.txt\", encoding=\"utf8\")\n",
    "for x in f:\n",
    "    prenom_yfirflokkur = x.split()\n",
    "    prenoms_yfirflokkar.append(prenom_yfirflokkur)\n",
    "    \n",
    "prenoms_undirflokkar = []\n",
    "\n",
    "f = open(\"adj_data/prenoms_subcategories.txt\", encoding=\"utf8\")\n",
    "for x in f:\n",
    "    prenom_undirflokkur = x.split()\n",
    "    prenoms_undirflokkar.append(prenom_undirflokkur)"
   ]
  },
  {
   "cell_type": "code",
   "execution_count": 3,
   "metadata": {},
   "outputs": [],
   "source": [
    "def tally_occurences(prenom:list, prevs):\n",
    "    \n",
    "    n = len(prenom)-1\n",
    "    i = 0\n",
    "    \n",
    "    while n >= 1:\n",
    "        \n",
    "        m = 0\n",
    "        word2 = prenom[n]\n",
    "        cat2 = yfirflokkar.index(word2)\n",
    "        \n",
    "        while m < n:\n",
    "            \n",
    "            word1 = prenom[m]\n",
    "            cat1 = yfirflokkar.index(word1)\n",
    "            \n",
    "            prevs[cat1,cat2] += 1\n",
    "            \n",
    "            m += 1\n",
    "        \n",
    "        n -= 1\n",
    "    \n",
    "    return prevs"
   ]
  },
  {
   "cell_type": "code",
   "execution_count": 4,
   "metadata": {},
   "outputs": [
    {
     "name": "stdout",
     "output_type": "stream",
     "text": [
      "Mesti fjöldi lýsingarorða á undan einu nafnorði er:  18\n",
      " Sá strengur er:  ['staðsetning', 'efni', 'efni', 'afleiðsla', 'almennt', 'efni', 'skyn', 'líkami', 'staðsetning', 'líkami', 'tengsl', 'líkami', 'tengsl', 'hegðun', 'skap', 'tengsl', 'tengsl', 'tengsl']\n"
     ]
    }
   ],
   "source": [
    "# Lengsti strengur lýsingarorða á undan nafnorði\n",
    "\n",
    "prenoms_len = []\n",
    "\n",
    "for i in prenoms:\n",
    "    prenoms_len.append(len(i))\n",
    "\n",
    "print(\"Mesti fjöldi lýsingarorða á undan einu nafnorði er: \", max(prenoms_len))\n",
    "print(\" Sá strengur er: \", prenoms_yfirflokkar[prenoms_len.index(max(prenoms_len))])"
   ]
  },
  {
   "cell_type": "code",
   "execution_count": 5,
   "metadata": {},
   "outputs": [],
   "source": [
    "\n",
    "prevs = np.zeros((len(yfirflokkar), len(yfirflokkar)))\n",
    "for prenoms_yfirflokkur in prenoms_yfirflokkar:\n",
    "    prevs = tally_occurences(prenoms_yfirflokkur, prevs)\n",
    "prevs_pd = pd.DataFrame(prevs, dtype=int, index=yfirflokkar, columns=yfirflokkar)\n",
    "prevs = prevs_pd.to_csv()\n",
    "\n",
    "with open('stats_data/prenom_yfirflokkar_stats.csv', 'w', encoding='utf8') as f:\n",
    "    f.write(prevs)\n"
   ]
  },
  {
   "cell_type": "code",
   "execution_count": 6,
   "metadata": {},
   "outputs": [
    {
     "name": "stdout",
     "output_type": "stream",
     "text": [
      "[36852, 74016, 69126, 6135, 58550, 672, 77728, 40466, 17531, 60743, 24578, 100481, 118522, 198833, 26333, 2489]\n",
      "[39089, 84316, 37334, 7173, 64585, 527, 66114, 46688, 18838, 60525, 110938, 49212, 155666, 139642, 29073, 3335]\n",
      "[0.9427716237304613, 0.8778405047677783, 1.8515562222103177, 0.8552906733584275, 0.9065572501354804, 1.2751423149905123, 1.1756662734065402, 0.8667323509252913, 0.9306189616732137, 1.0036018174308137, 0.22154717049162595, 2.041798748272779, 0.7613865584006784, 1.4238767705991033, 0.9057544801018127, 0.7463268365817092]\n"
     ]
    }
   ],
   "source": [
    "tidni_undan = []\n",
    "tidni_eftir = []\n",
    "studull = []\n",
    "\n",
    "for i in prevs_pd:\n",
    "    appears_before = 0\n",
    "    appears_after = 0\n",
    "    for j in prevs_pd:\n",
    "        if i != j:\n",
    "            appears_before = appears_before + prevs_pd.loc[i,j]\n",
    "            appears_after = appears_after + prevs_pd.loc[j,i]\n",
    "    tidni_undan.append(appears_before)\n",
    "    tidni_eftir.append(appears_after)\n",
    "    studull.append(appears_before/appears_after)\n",
    "print(tidni_undan)\n",
    "print(tidni_eftir)\n",
    "print(studull)"
   ]
  },
  {
   "cell_type": "code",
   "execution_count": 7,
   "metadata": {},
   "outputs": [],
   "source": [
    "tidni = [0] * len(yfirflokkar)\n",
    "\n",
    "for prenom in prenoms_yfirflokkar:\n",
    "    for i in prenom:\n",
    "        tidni[yfirflokkar.index(i)] = tidni[yfirflokkar.index(i)] +1"
   ]
  },
  {
   "cell_type": "code",
   "execution_count": 8,
   "metadata": {},
   "outputs": [
    {
     "name": "stdout",
     "output_type": "stream",
     "text": [
      "Sjaldgæfasti lýsingarorðaflokkurinn er veður\n",
      "Orð eru flokkuð í hann 1155 sinnum\n",
      "\n",
      "Algengasti lýsingarorðaflokkurinn er almennt\n",
      "Orð eru flokkuð í hann 394598 sinnum\n"
     ]
    }
   ],
   "source": [
    "# Tíðni undirflokka\n",
    "\n",
    "yfirflokkar_tidni = []\n",
    "\n",
    "for i in range(len(yfirflokkar)):\n",
    "    temp = []\n",
    "    temp.append(yfirflokkar[i])\n",
    "    temp.append(tidni[i])\n",
    "    yfirflokkar_tidni.append(temp)\n",
    "\n",
    "def sortFunc(e):\n",
    "    return e[1]\n",
    "\n",
    "sorted_yfirflokkar_tidni = yfirflokkar_tidni.copy()\n",
    "sorted_yfirflokkar_tidni.sort(key=sortFunc)\n",
    "\n",
    "print(\"Sjaldgæfasti lýsingarorðaflokkurinn er\", sorted_yfirflokkar_tidni[0][0])\n",
    "print(\"Orð eru flokkuð í hann\", sorted_yfirflokkar_tidni[0][1], \"sinnum\")\n",
    "print(\"\")\n",
    "print(\"Algengasti lýsingarorðaflokkurinn er\", sorted_yfirflokkar_tidni[len(sorted_yfirflokkar_tidni)-1][0])\n",
    "print(\"Orð eru flokkuð í hann\", sorted_yfirflokkar_tidni[len(sorted_yfirflokkar_tidni)-1][1], \"sinnum\")"
   ]
  },
  {
   "cell_type": "code",
   "execution_count": 9,
   "metadata": {},
   "outputs": [],
   "source": [
    "# Stuðlar undirflokka\n",
    "# Hver undirflokkur hefur sinn eigin stuðul þar sem stuðullinn er fjöldi orða sem það birtist á undan deilt með fjölda orða sem það birtist á eftir\n",
    "# Flokkur með hærri stuðul hljómar betur á undan flokki með lægri stuðul\n",
    "\n",
    "yfirflokkar_studull = []\n",
    "\n",
    "for i in range(len(yfirflokkar)):\n",
    "    temp = []\n",
    "    temp.append(yfirflokkar[i])\n",
    "    temp.append(studull[i])\n",
    "    yfirflokkar_studull.append(temp)\n",
    "    \n",
    "def sortFunc(e):\n",
    "    return e[1]\n",
    "\n",
    "sorted_yfirflokkar_studull = yfirflokkar_studull.copy()\n",
    "sorted_yfirflokkar_studull.sort(reverse=True, key=sortFunc)"
   ]
  },
  {
   "cell_type": "code",
   "execution_count": 10,
   "metadata": {},
   "outputs": [
    {
     "name": "stdout",
     "output_type": "stream",
     "text": [
      "2026373\n",
      "2026373\n"
     ]
    }
   ],
   "source": [
    "samtals = 0\n",
    "\n",
    "for i in prenoms:\n",
    "    for j in i:\n",
    "        samtals = samtals + 1\n",
    "\n",
    "print(samtals)\n",
    "\n",
    "samtals = 0\n",
    "\n",
    "for i in tidni:\n",
    "    samtals = samtals + i\n",
    "    \n",
    "print(samtals)"
   ]
  },
  {
   "cell_type": "code",
   "execution_count": 11,
   "metadata": {},
   "outputs": [],
   "source": [
    "with open('stats_data/sorted_yfirflokkar_studull.txt', 'w', encoding='utf8') as f:\n",
    "    for word in sorted_yfirflokkar_studull:\n",
    "        for element in word:\n",
    "            f.write(\"%s\\t\" % element)\n",
    "        f.write(\"\\n\")"
   ]
  },
  {
   "cell_type": "code",
   "execution_count": 12,
   "metadata": {},
   "outputs": [
    {
     "data": {
      "text/plain": [
       "[['fjöldi', 2.041798748272779],\n",
       " ['tími', 1.8515562222103177],\n",
       " ['almennt', 1.4238767705991033],\n",
       " ['veður', 1.2751423149905123],\n",
       " ['líkami', 1.1756662734065402],\n",
       " ['hegðun', 1.0036018174308137],\n",
       " ['skyn', 0.9427716237304613],\n",
       " ['hugi', 0.9306189616732137],\n",
       " ['efni', 0.9065572501354804],\n",
       " ['afleiðsla', 0.9057544801018127],\n",
       " ['staðsetning', 0.8778405047677783],\n",
       " ['skap', 0.8667323509252913],\n",
       " ['hreyfing', 0.8552906733584275],\n",
       " ['tengsl', 0.7613865584006784],\n",
       " ['neitun', 0.7463268365817092],\n",
       " ['samfélag', 0.22154717049162595]]"
      ]
     },
     "execution_count": 12,
     "metadata": {},
     "output_type": "execute_result"
    }
   ],
   "source": [
    "sorted_yfirflokkar_studull"
   ]
  },
  {
   "cell_type": "code",
   "execution_count": 13,
   "metadata": {},
   "outputs": [
    {
     "name": "stdout",
     "output_type": "stream",
     "text": [
      "Lýsingarorðið með lægstu líkurnar er:  5m/s\n",
      "Áætlaður undirflokkur sem orðið telst vera hluti af er:  efni\n",
      "Það hefur líkurnar: 19.999%\n"
     ]
    }
   ],
   "source": [
    "# Ólíklegasta lýsingarorðið\n",
    "\n",
    "prenom_yfirflokkur_likindi = []\n",
    "\n",
    "for i in range(len(prenoms)):\n",
    "    for j in range(len(prenoms[i])):\n",
    "        temp = []\n",
    "        temp.append(prenoms[i][j])\n",
    "        temp.append(prenoms_yfirflokkar[i][j])\n",
    "        temp.append(prenoms_likindi[i][j])\n",
    "        prenom_yfirflokkur_likindi.append(temp)\n",
    "        \n",
    "def sortFunc(e):\n",
    "    return e[2]\n",
    "\n",
    "sorted_prenom_yfirflokkur_likindi = prenom_yfirflokkur_likindi.copy()\n",
    "sorted_prenom_yfirflokkur_likindi.sort(key=sortFunc)\n",
    "\n",
    "temp = []\n",
    "temp.append(sorted_prenom_yfirflokkur_likindi[0])\n",
    "for elem in sorted_prenom_yfirflokkur_likindi:\n",
    "    if elem[0] != temp[len(temp)-1][0]:\n",
    "        temp.append(elem)\n",
    "sorted_prenom_yfirflokkur_likindi = temp\n",
    "\n",
    "print(\"Lýsingarorðið með lægstu líkurnar er: \", sorted_prenom_yfirflokkur_likindi[0][0])\n",
    "print(\"Áætlaður undirflokkur sem orðið telst vera hluti af er: \", sorted_prenom_yfirflokkur_likindi[0][1])\n",
    "print(\"Það hefur líkurnar: {:.3%}\".format(float(sorted_prenom_yfirflokkur_likindi[0][2])))"
   ]
  },
  {
   "cell_type": "code",
   "execution_count": 22,
   "metadata": {},
   "outputs": [
    {
     "name": "stdout",
     "output_type": "stream",
     "text": [
      "1523254.7212314282 2026373 0.7517148724501502\n"
     ]
    }
   ],
   "source": [
    "a = 0\n",
    "b = 0\n",
    "\n",
    "for prenom in prenoms_likindi:\n",
    "    for i in prenom:\n",
    "        a = a + float(i)\n",
    "        b = b + 1\n",
    "        \n",
    "c = a / b\n",
    "print(a,b,c)        "
   ]
  }
 ],
 "metadata": {
  "kernelspec": {
   "display_name": "Python 3.8.2 64-bit",
   "language": "python",
   "name": "python38264bit3b06f074df224808bd6722bdc2b258c8"
  },
  "language_info": {
   "codemirror_mode": {
    "name": "ipython",
    "version": 3
   },
   "file_extension": ".py",
   "mimetype": "text/x-python",
   "name": "python",
   "nbconvert_exporter": "python",
   "pygments_lexer": "ipython3",
   "version": "3.8.2"
  }
 },
 "nbformat": 4,
 "nbformat_minor": 4
}
