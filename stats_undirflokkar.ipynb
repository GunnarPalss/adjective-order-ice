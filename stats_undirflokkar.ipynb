{
 "cells": [
  {
   "cell_type": "code",
   "execution_count": 34,
   "metadata": {},
   "outputs": [],
   "source": [
    "import pandas as pd\n",
    "import numpy as np\n",
    "import matplotlib.pyplot as plt\n",
    "import random"
   ]
  },
  {
   "cell_type": "code",
   "execution_count": 31,
   "metadata": {},
   "outputs": [],
   "source": [
    "rm_adjectives = []\n",
    "\n",
    "f = open(\"adj_data/all_adj.txt\", encoding=\"utf8\")\n",
    "for x in f:\n",
    "    rm_adjective = x[:-1]\n",
    "    rm_adjectives.append(rm_adjective)\n",
    "    \n",
    "    \n",
    "germanet_flokkar = []\n",
    "\n",
    "f = open(\"germanet_data/germanet_categories.txt\", encoding=\"utf8\")\n",
    "for x in f:\n",
    "    germanet_flokkur = x.split()\n",
    "    germanet_flokkar.append(germanet_flokkur)\n",
    "    \n",
    "yfirflokkar = []\n",
    "undirflokkar = []\n",
    "leitarord = []\n",
    "\n",
    "for i in germanet_flokkar:\n",
    "    yfirflokkar.append(i[0])\n",
    "    undirflokkar.append(i[1])\n",
    "    leitarord1 = []\n",
    "    leitarord1.append(i[2])\n",
    "    leitarord1.append(i[3])\n",
    "    leitarord.append(leitarord1)\n",
    "    \n",
    "yfirflokkar = list( dict.fromkeys(yfirflokkar) )\n",
    "    \n",
    "    \n",
    "prenoms = []   \n",
    "    \n",
    "f = open(\"adj_data/prenoms_adj.txt\", encoding=\"utf8\")\n",
    "for x in f:\n",
    "    prenom = x.split()\n",
    "    prenoms.append(prenom[:-1])\n",
    "    \n",
    "prenoms_likindi = []\n",
    "\n",
    "f = open(\"adj_data/prenoms_cossims.txt\", encoding=\"utf8\")\n",
    "for x in f:\n",
    "    prenom_likur = x.split()\n",
    "    prenoms_likindi.append(prenom_likur)\n",
    "    \n",
    "prenoms_yfirflokkar = []\n",
    "\n",
    "f = open(\"adj_data/prenoms_supercategories.txt\", encoding=\"utf8\")\n",
    "for x in f:\n",
    "    prenom_yfirflokkur = x.split()\n",
    "    prenoms_yfirflokkar.append(prenom_yfirflokkur)\n",
    "    \n",
    "prenoms_undirflokkar = []\n",
    "\n",
    "f = open(\"adj_data/prenoms_subcategories.txt\", encoding=\"utf8\")\n",
    "for x in f:\n",
    "    prenom_undirflokkur = x.split()\n",
    "    prenoms_undirflokkar.append(prenom_undirflokkur)"
   ]
  },
  {
   "cell_type": "code",
   "execution_count": 2,
   "metadata": {},
   "outputs": [],
   "source": [
    "def tally_occurences(prenom:list, prevs):\n",
    "    \n",
    "    n = len(prenom)-1\n",
    "    i = 0\n",
    "    \n",
    "    while n >= 1:\n",
    "        \n",
    "        m = 0\n",
    "        word2 = prenom[n]\n",
    "        cat2 = undirflokkar.index(word2)\n",
    "        \n",
    "        while m < n:\n",
    "            \n",
    "            word1 = prenom[m]\n",
    "            cat1 = undirflokkar.index(word1)\n",
    "            \n",
    "            prevs[cat1,cat2] += 1\n",
    "            \n",
    "            m += 1\n",
    "        \n",
    "        n -= 1\n",
    "    \n",
    "    return prevs"
   ]
  },
  {
   "cell_type": "code",
   "execution_count": 3,
   "metadata": {},
   "outputs": [
    {
     "name": "stdout",
     "output_type": "stream",
     "text": [
      "Mesti fjöldi lýsingarorða á undan einu nafnorði er:  18\n",
      " Sá strengur er:  ['uppruni', 'eðli', 'virkni', 'gáfur', 'venja', 'litur', 'birta', 'venja', 'vídd', 'útlit', 'erfiði', 'líkamsgerð', 'vissa', 'tilhneiging', 'örvun', 'verð', 'verð', 'verð']\n"
     ]
    }
   ],
   "source": [
    "# Lengsti strengur lýsingarorða á undan nafnorði\n",
    "\n",
    "prenoms_len = []\n",
    "\n",
    "for i in prenoms:\n",
    "    prenoms_len.append(len(i))\n",
    "\n",
    "print(\"Mesti fjöldi lýsingarorða á undan einu nafnorði er: \", max(prenoms_len))\n",
    "print(\" Sá strengur er: \", prenoms_undirflokkar[prenoms_len.index(max(prenoms_len))])"
   ]
  },
  {
   "cell_type": "code",
   "execution_count": 6,
   "metadata": {},
   "outputs": [],
   "source": [
    "\n",
    "prevs = np.zeros((len(undirflokkar), len(undirflokkar)))\n",
    "for prenoms_undirflokkur in prenoms_undirflokkar:\n",
    "    prevs = tally_occurences(prenoms_undirflokkur, prevs)\n",
    "prevs_pd = pd.DataFrame(prevs, dtype=int, index=undirflokkar, columns=undirflokkar)\n",
    "prevs = prevs_pd.to_csv()\n",
    "\n",
    "with open('stats_data/prenom_undirflokkar_stats.csv', 'w', encoding='utf8') as f:\n",
    "    f.write(prevs)\n"
   ]
  },
  {
   "cell_type": "code",
   "execution_count": 7,
   "metadata": {},
   "outputs": [
    {
     "name": "stdout",
     "output_type": "stream",
     "text": [
      "[10351, 14660, 2399, 2879, 2737, 12453, 63846, 4751, 7102, 24311, 11543, 3560, 6705, 4707, 18277, 60225, 69621, 3537, 7736, 6239, 4968, 2192, 2209, 2132, 7809, 4957, 10594, 1887, 5480, 977, 4309, 17606, 12015, 3523, 2359, 34432, 3768, 9026, 32716, 21780, 9681, 102420, 8360, 14562, 8780, 12453, 10588, 9271, 12101, 8390, 9089, 2077, 24608, 74433, 20890, 7675, 39587, 6642, 18132, 6092, 18071, 3607, 9533, 7417, 8691, 9646, 6989, 9213, 6275, 5566, 2490]\n",
      "[9204, 23266, 1864, 3255, 3392, 11844, 38319, 6698, 5541, 27887, 11392, 6602, 6378, 5929, 9319, 30639, 49740, 4310, 11335, 4569, 5391, 4383, 2151, 2151, 5886, 4979, 13971, 3755, 6093, 934, 4490, 16190, 11451, 3039, 3220, 34916, 2780, 7366, 41076, 23689, 12529, 92758, 15202, 19707, 11159, 9623, 12428, 8100, 19435, 13443, 88686, 2856, 7247, 15024, 29061, 8865, 47516, 2926, 17467, 9007, 12798, 3577, 12683, 17727, 4508, 6484, 6201, 10482, 20479, 4671, 3664]\n",
      "[1.1246197305519339, 0.6301040144416745, 1.2870171673819744, 0.8844854070660523, 0.8068985849056604, 1.051418439716312, 1.6661708290926172, 0.7093162137951627, 1.2817181014257355, 0.8717682074084699, 1.013254915730337, 0.5392305362011511, 1.0512699905926624, 0.7938944172710406, 1.9612619379761778, 1.9656320375991383, 1.3996984318455972, 0.8206496519721578, 0.6824878694309661, 1.3655066754213177, 0.9215358931552587, 0.5001140771161305, 1.0269642026964203, 0.9911668991166899, 1.3267074413863404, 0.9955814420566379, 0.758285018967862, 0.5025299600532623, 0.8993927457738389, 1.0460385438972162, 0.9596881959910913, 1.0874613959234094, 1.0492533403196227, 1.159262915432708, 0.7326086956521739, 0.9861381601558025, 1.3553956834532375, 1.2253597610643496, 0.7964748271496738, 0.9194140740428047, 0.7726873653124751, 1.1041635222837922, 0.5499276410998553, 0.7389252549855382, 0.7868088538399498, 1.29408708303024, 0.8519472159639524, 1.144567901234568, 0.6226395677900695, 0.6241166406308116, 0.10248517240601673, 0.7272408963585434, 3.395611977369946, 4.954273162939297, 0.7188327999724717, 0.8657642413987592, 0.8331298930886438, 2.269993164730007, 1.0380717925230434, 0.6763628289108471, 1.4120175027348023, 1.0083869164103998, 0.7516360482535678, 0.4184013087380832, 1.9279059449866904, 1.487661937075879, 1.1270762780196741, 0.8789353176874642, 0.3064114458713804, 1.1916077927638622, 0.6795851528384279]\n"
     ]
    }
   ],
   "source": [
    "tidni_undan = []\n",
    "tidni_eftir = []\n",
    "studull = []\n",
    "\n",
    "for i in prevs_pd:\n",
    "    appears_before = 0\n",
    "    appears_after = 0\n",
    "    for j in prevs_pd:\n",
    "        if i != j:\n",
    "            appears_before = appears_before + prevs_pd.loc[i,j]\n",
    "            appears_after = appears_after + prevs_pd.loc[j,i]\n",
    "    tidni_undan.append(appears_before)\n",
    "    tidni_eftir.append(appears_after)\n",
    "    studull.append(appears_before/appears_after)\n",
    "print(tidni_undan)\n",
    "print(tidni_eftir)\n",
    "print(studull)"
   ]
  },
  {
   "cell_type": "code",
   "execution_count": 8,
   "metadata": {},
   "outputs": [],
   "source": [
    "tidni = [0] * len(undirflokkar)\n",
    "\n",
    "for prenom in prenoms_undirflokkar:\n",
    "    for i in prenom:\n",
    "        tidni[undirflokkar.index(i)] = tidni[undirflokkar.index(i)] +1"
   ]
  },
  {
   "cell_type": "code",
   "execution_count": 9,
   "metadata": {},
   "outputs": [
    {
     "name": "stdout",
     "output_type": "stream",
     "text": [
      "Sjaldgæfasti lýsingarorðaflokkurinn er veður\n",
      "Orð eru flokkuð í hann 1851 sinnum\n",
      "\n",
      "Algengasti lýsingarorðaflokkurinn er hegðun\n",
      "Orð eru flokkuð í hann 204798 sinnum\n"
     ]
    }
   ],
   "source": [
    "# Tíðni undirflokka\n",
    "\n",
    "undirflokkar_tidni = []\n",
    "\n",
    "for i in range(len(undirflokkar)):\n",
    "    temp = []\n",
    "    temp.append(undirflokkar[i])\n",
    "    temp.append(tidni[i])\n",
    "    undirflokkar_tidni.append(temp)\n",
    "\n",
    "def sortFunc(e):\n",
    "    return e[1]\n",
    "\n",
    "sorted_undirflokkar_tidni = undirflokkar_tidni.copy()\n",
    "sorted_undirflokkar_tidni.sort(key=sortFunc)\n",
    "\n",
    "print(\"Sjaldgæfasti lýsingarorðaflokkurinn er\", sorted_undirflokkar_tidni[0][0])\n",
    "print(\"Orð eru flokkuð í hann\", sorted_undirflokkar_tidni[0][1], \"sinnum\")\n",
    "print(\"\")\n",
    "print(\"Algengasti lýsingarorðaflokkurinn er\", sorted_undirflokkar_tidni[len(sorted_undirflokkar_tidni)-1][0])\n",
    "print(\"Orð eru flokkuð í hann\", sorted_undirflokkar_tidni[len(sorted_undirflokkar_tidni)-1][1], \"sinnum\")"
   ]
  },
  {
   "cell_type": "code",
   "execution_count": 10,
   "metadata": {},
   "outputs": [],
   "source": [
    "# Stuðlar undirflokka\n",
    "# Hver undirflokkur hefur sinn eigin stuðul þar sem stuðullinn er fjöldi orða sem það birtist á undan deilt með fjölda orða sem það birtist á eftir\n",
    "# Flokkur með hærri stuðul hljómar betur á undan flokki með lægri stuðul\n",
    "\n",
    "undirflokkar_studull = []\n",
    "\n",
    "for i in range(len(undirflokkar)):\n",
    "    temp = []\n",
    "    temp.append(undirflokkar[i])\n",
    "    temp.append(studull[i])\n",
    "    undirflokkar_studull.append(temp)\n",
    "\n",
    "def sortFunc(e):\n",
    "    return e[1]\n",
    "    \n",
    "sorted_undirflokkar_studull = undirflokkar_studull.copy()\n",
    "sorted_undirflokkar_studull.sort(reverse=True, key=sortFunc)"
   ]
  },
  {
   "cell_type": "code",
   "execution_count": 11,
   "metadata": {},
   "outputs": [
    {
     "name": "stdout",
     "output_type": "stream",
     "text": [
      "Lýsingarorðið með lægstu líkurnar er:  5m/s\n",
      "Áætlaður undirflokkur sem orðið telst vera hluti af er:  tilvera\n",
      "Það hefur líkurnar: 23.589%\n"
     ]
    }
   ],
   "source": [
    "# Ólíklegasta lýsingarorðið\n",
    "\n",
    "prenom_undirflokkur_likindi = []\n",
    "\n",
    "for i in range(len(prenoms)):\n",
    "    for j in range(len(prenoms[i])):\n",
    "        temp = []\n",
    "        temp.append(prenoms[i][j])\n",
    "        temp.append(prenoms_undirflokkar[i][j])\n",
    "        temp.append(prenoms_likindi[i][j])\n",
    "        prenom_undirflokkur_likindi.append(temp)\n",
    "        \n",
    "def sortFunc(e):\n",
    "    return e[2]\n",
    "\n",
    "sorted_prenom_undirflokkur_likindi = prenom_undirflokkur_likindi.copy()\n",
    "sorted_prenom_undirflokkur_likindi.sort(reverse=True, key=sortFunc)\n",
    "\n",
    "temp = []\n",
    "temp.append(sorted_prenom_undirflokkur_likindi[0])\n",
    "for elem in sorted_prenom_undirflokkur_likindi:\n",
    "    if elem[0] != temp[len(temp)-1][0]:\n",
    "        temp.append(elem)\n",
    "sorted_prenom_undirflokkur_likindi = temp\n",
    "\n",
    "temp = []\n",
    "for i in sorted_prenom_undirflokkur_likindi:\n",
    "    if i not in temp:\n",
    "            temp.append(i) \n",
    "        \n",
    "sorted_prenom_undirflokkur_likindi = temp.copy()\n",
    "\n",
    "with open('adj_data/sorted_prenom_undirflokkur_likindi.txt', 'w', encoding='utf8') as f:\n",
    "    for word in sorted_prenom_undirflokkur_likindi:\n",
    "        for element in word:\n",
    "            f.write(\"%s\\t\" % element)\n",
    "        f.write(\"\\n\")\n",
    "        \n",
    "n = len(sorted_prenom_undirflokkur_likindi) - 1\n",
    "\n",
    "print(\"Lýsingarorðið með lægstu líkurnar er: \", sorted_prenom_undirflokkur_likindi[n][0])\n",
    "print(\"Áætlaður undirflokkur sem orðið telst vera hluti af er: \", sorted_prenom_undirflokkur_likindi[n][1])\n",
    "print(\"Það hefur líkurnar: {:.3%}\".format(float(sorted_prenom_undirflokkur_likindi[n][2])))"
   ]
  },
  {
   "cell_type": "code",
   "execution_count": 12,
   "metadata": {},
   "outputs": [
    {
     "name": "stdout",
     "output_type": "stream",
     "text": [
      "1599112.2350446465 2026373 0.7891499911638413\n"
     ]
    }
   ],
   "source": [
    "a = 0\n",
    "b = 0\n",
    "\n",
    "for prenom in prenoms_likindi:\n",
    "    for i in prenom:\n",
    "        a = a + float(i)\n",
    "        b = b + 1\n",
    "        \n",
    "c = a / b\n",
    "print(a,b,c)"
   ]
  },
  {
   "cell_type": "code",
   "execution_count": 13,
   "metadata": {},
   "outputs": [],
   "source": [
    "moguleg_leitarord = []\n",
    "\n",
    "for prenom in sorted_prenom_undirflokkur_likindi:\n",
    "    if float(prenom[2]) >= 0.9 and float(prenom[2]) < 1:\n",
    "        moguleg_leitarord.append(prenom)\n",
    "        \n",
    "temp = []\n",
    "temp2 = []\n",
    "\n",
    "for i in moguleg_leitarord:\n",
    "    for j in leitarord:\n",
    "        if i[0] not in j:\n",
    "            temp.append(i)\n",
    "        \n",
    "for i in temp:\n",
    "    if i not in temp2:\n",
    "        temp2.append(i)\n",
    "        \n",
    "moguleg_leitarord = temp2.copy()\n",
    "              \n",
    "with open('moguleg_leitarord.txt', 'w', encoding='utf8') as f:\n",
    "    for word in moguleg_leitarord:\n",
    "        for element in word:\n",
    "            f.write(\"%s\\t\" % element)\n",
    "        f.write(\"\\n\")"
   ]
  },
  {
   "cell_type": "code",
   "execution_count": 14,
   "metadata": {},
   "outputs": [],
   "source": [
    "flokkud_lo = []\n",
    "\n",
    "for i in germanet_flokkar:\n",
    "    flokkud_lo.append([i[1]])\n",
    "    \n",
    "for i in sorted_prenom_undirflokkur_likindi:\n",
    "    for j in flokkud_lo:\n",
    "        if i[1] == j[0] and i[0] not in j:\n",
    "            j.append(i[0])\n",
    "            \n",
    "with open('flokkud_lo.txt', 'w', encoding='utf8') as f:\n",
    "    for word in flokkud_lo:\n",
    "        for element in word:\n",
    "            f.write(\"%s\\t\" % element)\n",
    "        f.write(\"\\n\")\n",
    "        f.write(\"\\n\")"
   ]
  },
  {
   "cell_type": "code",
   "execution_count": 15,
   "metadata": {},
   "outputs": [],
   "source": [
    "undirflokkar_fjoldi = undirflokkar.copy()\n",
    "\n",
    "for i in range(len(undirflokkar_fjoldi)):\n",
    "    undirflokkar_fjoldi[i] = [undirflokkar[i], 0]\n",
    "    \n",
    "\n",
    "for i in prenoms_undirflokkar:\n",
    "    for j in i:\n",
    "        undirflokkar_fjoldi[undirflokkar.index(j)][1] += 1"
   ]
  },
  {
   "cell_type": "code",
   "execution_count": 16,
   "metadata": {},
   "outputs": [],
   "source": [
    "undirflokkar_studull_fjoldi = []\n",
    "\n",
    "for i in range(len(undirflokkar)):\n",
    "    temp = []\n",
    "    temp.append(undirflokkar[i])\n",
    "    temp.append(undirflokkar_studull[i][1])\n",
    "    temp.append(undirflokkar_fjoldi[i][1])\n",
    "    undirflokkar_studull_fjoldi.append(temp)\n",
    "    \n",
    "def sortFunc(e):\n",
    "    return e[1]\n",
    "    \n",
    "sorted_undirflokkar_studull_fjoldi = undirflokkar_studull_fjoldi.copy()\n",
    "sorted_undirflokkar_studull_fjoldi.sort(reverse=True, key=sortFunc)\n",
    "    \n",
    "with open('stats_data/sorted_undirflokkar_studull_fjoldi.txt', 'w', encoding='utf8') as f:\n",
    "    for word in sorted_undirflokkar_studull_fjoldi:\n",
    "        for element in word:\n",
    "            f.write(\"%s\\t\" % element)\n",
    "        f.write(\"\\n\")"
   ]
  },
  {
   "cell_type": "code",
   "execution_count": 17,
   "metadata": {},
   "outputs": [],
   "source": [
    "sorted_undirflokkar = []\n",
    "\n",
    "for i in sorted_undirflokkar_studull_fjoldi:\n",
    "    sorted_undirflokkar.append(i[0])"
   ]
  },
  {
   "cell_type": "code",
   "execution_count": 18,
   "metadata": {},
   "outputs": [],
   "source": [
    "prenomnoms = []   \n",
    "    \n",
    "f = open(\"adj_data/prenoms_adj.txt\", encoding=\"utf8\")\n",
    "for x in f:\n",
    "    prenomnom = x.split()\n",
    "    prenomnoms.append(prenomnom)"
   ]
  },
  {
   "cell_type": "code",
   "execution_count": 19,
   "metadata": {},
   "outputs": [],
   "source": [
    "prenom_i_rettri_rod = []\n",
    "prenom_i_rangri_rod = []\n",
    "undirflokkar_i_rangri_rod = []\n",
    "\n",
    "for i in range(len(prenoms_undirflokkar)):\n",
    "    prenom = prenoms_undirflokkar[i]\n",
    "    a = 0\n",
    "    rong_rod = False\n",
    "    for j in prenom:\n",
    "        b = sorted_undirflokkar.index(j)\n",
    "        if b < a:\n",
    "            rong_rod = True\n",
    "        a = b\n",
    "    if rong_rod:\n",
    "        prenom_i_rangri_rod.append(prenomnoms[i])\n",
    "        undirflokkar_i_rangri_rod.append(prenoms_undirflokkar[i])\n",
    "    else:\n",
    "        prenom_i_rettri_rod.append(prenomnoms[i])"
   ]
  },
  {
   "cell_type": "code",
   "execution_count": 20,
   "metadata": {},
   "outputs": [
    {
     "name": "stdout",
     "output_type": "stream",
     "text": [
      "655954\n",
      "315606\n",
      "0.6751554201490386\n",
      "971560\n"
     ]
    }
   ],
   "source": [
    "print(len(prenom_i_rettri_rod))\n",
    "print(len(prenom_i_rangri_rod))\n",
    "print(len(prenom_i_rettri_rod) / (len(prenom_i_rettri_rod) + len(prenom_i_rangri_rod)))\n",
    "print(len(prenoms))"
   ]
  },
  {
   "cell_type": "code",
   "execution_count": 21,
   "metadata": {},
   "outputs": [
    {
     "data": {
      "text/plain": [
       "<function matplotlib.pyplot.show(close=None, block=None)>"
      ]
     },
     "execution_count": 21,
     "metadata": {},
     "output_type": "execute_result"
    },
    {
     "data": {
      "image/png": "[encoded data removed]",
      "text/plain": [
       "<Figure size 432x288 with 1 Axes>"
      ]
     },
     "metadata": {
      "needs_background": "light"
     },
     "output_type": "display_data"
    }
   ],
   "source": [
    "x = range(1,72)\n",
    "y = []\n",
    "yy = []\n",
    "for i in sorted_undirflokkar_studull:\n",
    "    y.append(i[1])\n",
    "for i in reversed(y):\n",
    "    yy.append(i)\n",
    "plt.plot(x,yy, 'g')\n",
    "plt.plot([0,71], [1.0761554796405601, 1.0761554796405601], 'k:')\n",
    "plt.show"
   ]
  },
  {
   "cell_type": "code",
   "execution_count": 22,
   "metadata": {},
   "outputs": [
    {
     "data": {
      "text/plain": [
       "<function matplotlib.pyplot.show(close=None, block=None)>"
      ]
     },
     "execution_count": 22,
     "metadata": {},
     "output_type": "execute_result"
    },
    {
     "data": {
      "image/png": "[encoded data removed]",
      "text/plain": [
       "<Figure size 432x288 with 1 Axes>"
      ]
     },
     "metadata": {
      "needs_background": "light"
     },
     "output_type": "display_data"
    }
   ],
   "source": [
    "likindi = []\n",
    "\n",
    "for i in prenoms_likindi:\n",
    "    for j in i:\n",
    "        likindi.append(float(j))\n",
    "\n",
    "likindi.sort()\n",
    "\n",
    "plt.plot(range(1, len(likindi)+1), likindi, 'g')\n",
    "plt.plot([0, len(likindi)+1], [0.7891499911638413, 0.7891499911638413], 'k:')\n",
    "plt.show"
   ]
  },
  {
   "cell_type": "code",
   "execution_count": 23,
   "metadata": {},
   "outputs": [
    {
     "name": "stdout",
     "output_type": "stream",
     "text": [
      "2026373 28540.464788732395\n"
     ]
    },
    {
     "data": {
      "text/plain": [
       "<function matplotlib.pyplot.show(close=None, block=None)>"
      ]
     },
     "execution_count": 23,
     "metadata": {},
     "output_type": "execute_result"
    },
    {
     "data": {
      "image/png": "[encoded data removed]",
      "text/plain": [
       "<Figure size 432x288 with 1 Axes>"
      ]
     },
     "metadata": {
      "needs_background": "light"
     },
     "output_type": "display_data"
    }
   ],
   "source": [
    "fjoldi = []\n",
    "a = 0\n",
    "\n",
    "for i in sorted_undirflokkar_studull_fjoldi:\n",
    "    fjoldi.append(i[2])\n",
    "    a = a + i[2]\n",
    "    \n",
    "fjoldi.sort()\n",
    "\n",
    "print(a, a/71)\n",
    "\n",
    "plt.plot(range(1, len(fjoldi)+1), fjoldi, 'g')\n",
    "plt.plot([0, len(fjoldi)+1], [28540.464788732395, 28540.464788732395], 'k:')\n",
    "plt.show"
   ]
  },
  {
   "cell_type": "code",
   "execution_count": 24,
   "metadata": {},
   "outputs": [
    {
     "name": "stdout",
     "output_type": "stream",
     "text": [
      "1. & fjöldi & 4.954 & 83828 & \n",
      "2. & tala & 3.396 & 34152 & \n",
      "3. & vissa & 2.270 & 9017 & \n",
      "4. & aldur & 1.966 & 92295 & \n",
      "5. & hraði & 1.961 & 26118 & \n",
      "6. & tenging & 1.928 & 12682 & \n",
      "7. & vídd & 1.666 & 99178 & \n",
      "8. & samræmi & 1.488 & 15599 & \n",
      "9. & erfiði & 1.412 & 30190 & \n",
      "10. & venja & 1.400 & 124068 & \n",
      "11. & ástand & 1.366 & 9863 & \n",
      "12. & líkamsástand & 1.355 & 6309 & \n",
      "13. & mengun & 1.327 & 12451 & \n",
      "14. & samúð & 1.294 & 21520 & \n",
      "15. & hljóð & 1.287 & 3953 & \n",
      "16. & staðsetning & 1.282 & 12032 & \n",
      "17. & tilfinning & 1.225 & 15482 & \n",
      "18. & tilvísun & 1.192 & 9429 & \n",
      "19. & líkamstilfinning & 1.159 & 6297 & \n",
      "20. & félagsstaða & 1.145 & 17367 & \n",
      "21. & nákvæmni & 1.127 & 12994 & \n",
      "22. & birta & 1.125 & 17559 & \n",
      "23. & hegðun & 1.104 & 204798 & \n",
      "24. & líkamsgerð & 1.087 & 30896 & \n",
      "25. & áferð & 1.051 & 23140 & \n",
      "26. & tilvera & 1.051 & 13693 & \n",
      "27. & heilsa & 1.049 & 20558 & \n",
      "28. & veður & 1.046 & 1851 & \n",
      "29. & nauðsyn & 1.038 & 35124 & \n",
      "30. & þroski & 1.027 & 3912 & \n",
      "31. & rúmdreifing & 1.013 & 21356 & \n",
      "32. & virkni & 1.008 & 6871 & \n",
      "33. & þyngd & 0.996 & 8899 & \n",
      "34. & raki & 0.991 & 4035 & \n",
      "35. & útlit & 0.986 & 66388 & \n",
      "36. & líf & 0.960 & 8296 & \n",
      "37. & jafnvægi & 0.922 & 9656 & \n",
      "38. & gáfur & 0.919 & 42203 & \n",
      "39. & hitastig & 0.899 & 11210 & \n",
      "40. & bragð & 0.884 & 5658 & \n",
      "41. & heild & 0.879 & 19443 & \n",
      "42. & uppruni & 0.872 & 49629 & \n",
      "43. & uppskera & 0.866 & 15192 & \n",
      "44. & tilhneiging & 0.852 & 21038 & \n",
      "45. & gildi & 0.833 & 92494 & \n",
      "46. & hreyfing & 0.821 & 7232 & \n",
      "47. & lykt & 0.807 & 5510 & \n",
      "48. & örvun & 0.796 & 75540 & \n",
      "49. & tími & 0.794 & 9992 & \n",
      "50. & samband & 0.787 & 18761 & \n",
      "51. & reynsla & 0.773 & 21812 & \n",
      "52. & eðliseiginleiki & 0.758 & 24792 & \n",
      "53. & öryggi & 0.752 & 20489 & \n",
      "54. & hæfni & 0.739 & 31958 & \n",
      "55. & kyn & 0.733 & 5249 & \n",
      "56. & svæði & 0.727 & 4647 & \n",
      "57. & verð & 0.719 & 49432 & \n",
      "58. & stefna & 0.709 & 11708 & \n",
      "59. & eðli & 0.682 & 18181 & \n",
      "60. & gagn & 0.680 & 5849 & \n",
      "61. & hagnýtni & 0.676 & 13921 & \n",
      "62. & litur & 0.630 & 42190 & \n",
      "63. & trú & 0.624 & 22745 & \n",
      "64. & stjórnmál & 0.623 & 31225 & \n",
      "65. & dýrseðli & 0.550 & 22237 & \n",
      "66. & lögun & 0.539 & 9635 & \n",
      "67. & efniseiginleiki & 0.503 & 5621 & \n",
      "68. & hamur & 0.500 & 6051 & \n",
      "69. & regla & 0.418 & 22800 & \n",
      "70. & ástæða & 0.306 & 25600 & \n",
      "71. & ríki & 0.102 & 124473 & \n"
     ]
    }
   ],
   "source": [
    "for i in range(len(sorted_undirflokkar_studull)):\n",
    "    print(str(i+1) + '. &', sorted_undirflokkar_studull[i][0], '&', '{:5.3f}'.format(sorted_undirflokkar_studull[i][1]), '&', sorted_undirflokkar_studull_fjoldi[i][2], '& ')"
   ]
  },
  {
   "cell_type": "code",
   "execution_count": 25,
   "metadata": {},
   "outputs": [
    {
     "name": "stdout",
     "output_type": "stream",
     "text": [
      "76.40703905447977 1.0761554796405601\n"
     ]
    }
   ],
   "source": [
    "a = 0\n",
    "\n",
    "for i in sorted_undirflokkar_studull:\n",
    "    a = a + i[1]\n",
    "    \n",
    "print(a, a/len(sorted_undirflokkar_studull))"
   ]
  },
  {
   "cell_type": "code",
   "execution_count": 89,
   "metadata": {},
   "outputs": [
    {
     "data": {
      "text/plain": [
       "[['nýr', 'lítill', 'timburhús'],\n",
       " ['kúrdískur', 'vinstrisinnaður', 'vígamaður'],\n",
       " ['vinstri', 'gænn', 'ályktun'],\n",
       " ['sterkur', 'hugrakkur', 'frænka']]"
      ]
     },
     "execution_count": 89,
     "metadata": {},
     "output_type": "execute_result"
    }
   ],
   "source": [
    "random.choices(prenom_i_rettri_rod, k=4)"
   ]
  },
  {
   "cell_type": "code",
   "execution_count": 82,
   "metadata": {},
   "outputs": [],
   "source": []
  },
  {
   "cell_type": "code",
   "execution_count": 83,
   "metadata": {},
   "outputs": [
    {
     "data": {
      "text/plain": [
       "[['evrópskur', 'listrænn', 'kvikmynd'],\n",
       " ['fínn', 'fyrstur', 'verk'],\n",
       " ['magnaður', 'feitur', 'ilmur'],\n",
       " ['grillaður', 'brenndur', 'matur'],\n",
       " ['samsettur', 'áhugaverður', 'maður']]"
      ]
     },
     "execution_count": 83,
     "metadata": {},
     "output_type": "execute_result"
    }
   ],
   "source": [
    "example_rangt"
   ]
  },
  {
   "cell_type": "code",
   "execution_count": 84,
   "metadata": {},
   "outputs": [
    {
     "data": {
      "text/plain": [
       "[['fyrstur', 'fyndinn', 'myndband'],\n",
       " ['brosmildur', 'hlýr', 'góður', 'kona'],\n",
       " ['nýr', 'íslenskur', 'efnahagskerfi'],\n",
       " ['margvíslegur', 'óbeinn', 'afleiðing'],\n",
       " ['lítill', 'náttúrulegur', 'auðlind']]"
      ]
     },
     "execution_count": 84,
     "metadata": {},
     "output_type": "execute_result"
    }
   ],
   "source": [
    "example_rett"
   ]
  },
  {
   "cell_type": "code",
   "execution_count": null,
   "metadata": {},
   "outputs": [],
   "source": []
  }
 ],
 "metadata": {
  "kernelspec": {
   "display_name": "Python 3",
   "language": "python",
   "name": "python3"
  },
  "language_info": {
   "codemirror_mode": {
    "name": "ipython",
    "version": 3
   },
   "file_extension": ".py",
   "mimetype": "text/x-python",
   "name": "python",
   "nbconvert_exporter": "python",
   "pygments_lexer": "ipython3",
   "version": "3.8.2"
  }
 },
 "nbformat": 4,
 "nbformat_minor": 4
}
